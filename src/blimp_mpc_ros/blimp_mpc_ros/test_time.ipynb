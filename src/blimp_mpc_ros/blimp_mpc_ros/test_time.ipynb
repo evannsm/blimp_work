{
 "cells": [
  {
   "cell_type": "code",
   "execution_count": 2,
   "metadata": {},
   "outputs": [],
   "source": [
    "import time"
   ]
  },
  {
   "cell_type": "code",
   "execution_count": 3,
   "metadata": {},
   "outputs": [
    {
     "name": "stdout",
     "output_type": "stream",
     "text": [
      "0\n",
      "1\n",
      "2\n",
      "3\n",
      "4\n",
      "5\n",
      "6\n",
      "7\n",
      "8\n",
      "9\n",
      "Total time: 5.003849744796753\n"
     ]
    }
   ],
   "source": [
    "t1 = time.time()\n",
    "\n",
    "for i in range(10):\n",
    "    time.sleep(1/2)\n",
    "    print(i)\n",
    "\n",
    "\n",
    "t2 = time.time()\n",
    "print(f\"Total time: {t2 - t1}\")"
   ]
  },
  {
   "cell_type": "code",
   "execution_count": 4,
   "metadata": {},
   "outputs": [
    {
     "name": "stdout",
     "output_type": "stream",
     "text": [
      "0\n",
      "1\n",
      "2\n",
      "3\n",
      "4\n",
      "5\n",
      "6\n",
      "7\n",
      "8\n",
      "9\n",
      "Process time only: 0.016607965000000002\n"
     ]
    }
   ],
   "source": [
    "t1 = time.process_time()\n",
    "\n",
    "for i in range(10):\n",
    "    time.sleep(1/2)\n",
    "    print(i)\n",
    "\n",
    "\n",
    "t2 = time.process_time()\n",
    "print(f\"Process time only: {t2 - t1}\")"
   ]
  },
  {
   "cell_type": "code",
   "execution_count": 6,
   "metadata": {},
   "outputs": [
    {
     "name": "stdout",
     "output_type": "stream",
     "text": [
      "t1: 0.380505836\n",
      "t1: 0.397113801\n"
     ]
    }
   ],
   "source": [
    "print(f\"t1: {t1}\")\n",
    "print(f\"t1: {t2}\")"
   ]
  },
  {
   "cell_type": "code",
   "execution_count": 10,
   "metadata": {},
   "outputs": [
    {
     "name": "stdout",
     "output_type": "stream",
     "text": [
      "Process time 0.535407539\n"
     ]
    }
   ],
   "source": [
    "print(f\"Process time {time.process_time()}\")"
   ]
  },
  {
   "cell_type": "code",
   "execution_count": null,
   "metadata": {},
   "outputs": [],
   "source": [
    "{}"
   ]
  }
 ],
 "metadata": {
  "kernelspec": {
   "display_name": "blimp_env",
   "language": "python",
   "name": "python3"
  },
  "language_info": {
   "codemirror_mode": {
    "name": "ipython",
    "version": 3
   },
   "file_extension": ".py",
   "mimetype": "text/x-python",
   "name": "python",
   "nbconvert_exporter": "python",
   "pygments_lexer": "ipython3",
   "version": "3.11.9"
  }
 },
 "nbformat": 4,
 "nbformat_minor": 2
}
