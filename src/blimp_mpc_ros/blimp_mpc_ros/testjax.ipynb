{
 "cells": [
  {
   "cell_type": "code",
   "execution_count": 1,
   "metadata": {},
   "outputs": [],
   "source": [
    "import jax\n",
    "import jax.numpy as jnp\n",
    "from jax import jit, jacfwd, lax\n",
    "\n"
   ]
  },
  {
   "cell_type": "code",
   "execution_count": 10,
   "metadata": {},
   "outputs": [],
   "source": [
    "## Cross product operator (S operator)\n",
    "@jit\n",
    "def S(r):\n",
    "    return jnp.block([[  0,       -r[2],    r[1]],\n",
    "                     [r[2],     0,      -r[0]],\n",
    "                     [-r[1],    r[0],      0]])\n",
    "\n",
    "@jit\n",
    "def H(r):\n",
    "    return jnp.block([[jnp.identity(3), S(r).T],\n",
    "                     [jnp.zeros((3, 3)), jnp.identity(3)]])\n",
    "\n",
    "## Rotation matrices\n",
    "@jit\n",
    "def R_b__n(phi, theta, psi):\n",
    "    x_rot = jnp.array([[1,         0,           0],\n",
    "                      [0,       jnp.cos(phi),   - jnp.sin(phi)],\n",
    "                      [0,       jnp.sin(phi),    jnp.cos(phi)]])\n",
    "    y_rot = jnp.array([[ jnp.cos(theta),      0,        jnp.sin(theta)],\n",
    "                      [0,         1,           0],\n",
    "                      [- jnp.sin(theta),     0,        jnp.cos(theta)]])\n",
    "    z_rot = jnp.array([[ jnp.cos(psi),    - jnp.sin(psi),       0],\n",
    "                      [ jnp.sin(psi),     jnp.cos(psi),       0],\n",
    "                      [0,          0,           1]])\n",
    "    return z_rot @ y_rot @ x_rot\n",
    "\n",
    "@jit\n",
    "def R_b__n_inv(phi, theta, psi):\n",
    "    return jnp.array([[ jnp.cos(psi)* jnp.cos(theta), jnp.cos(theta)* jnp.sin(psi), - jnp.sin(theta)],\n",
    "                     [ jnp.cos(psi)* jnp.sin(phi)* jnp.sin(theta) - jnp.cos(phi)* jnp.sin(psi), \n",
    "                      jnp.cos(phi)* jnp.cos(psi) + jnp.sin(phi)* jnp.sin(psi)* jnp.sin(theta), \n",
    "                      jnp.cos(theta)* jnp.sin(phi)],\n",
    "                     [ jnp.sin(phi)* jnp.sin(psi) + jnp.cos(phi)* jnp.cos(psi)* jnp.sin(theta), \n",
    "                      jnp.cos(phi)* jnp.sin(psi)* jnp.sin(theta) - jnp.cos(psi)* jnp.sin(phi), \n",
    "                      jnp.cos(phi)* jnp.cos(theta)]])\n",
    "\n",
    "## Transformation matrix for angular velocity\n",
    "@jit\n",
    "def T(phi, theta):\n",
    "    return jnp.array([[1,     jnp.sin(phi)* jnp.tan(theta),      jnp.cos(phi)* jnp.tan(theta)],\n",
    "                     [0,          jnp.cos(phi),                   - jnp.sin(phi)],\n",
    "                     [0,     jnp.sin(phi)/jnp.cos(theta),      jnp.cos(phi)/jnp.cos(theta)]])\n",
    "\n",
    "\n",
    "Henv = 0.51  # Height of the envelope (m)\n",
    "Hgon = 0.04  # Height of the gondola (m)\n",
    "r_z_gb__b = 0.05  # Distance from CG to CB (m)\n",
    "dvt = Henv / 2 + Hgon # Distance from CB to motor thrust application point\n",
    "r_z_tg__b = dvt - r_z_gb__b  # Distance from CB to thrust generation point\n",
    "r_z_gb__b = 0.05\n",
    "r_gb__b = jnp.array([0, 0, r_z_gb__b]).T\n",
    "\n",
    "# Mass and inertia properties\n",
    "m_RB = 0.1249  # Mass of the blimp (kg)\n",
    "I_RBx = 0.005821  # Rotational inertia about x-axis (kg.m^2)\n",
    "M_RB_CG = jnp.diag(jnp.array([m_RB, m_RB, m_RB, I_RBx, I_RBx, I_RBx]))# Inertia matrix for the rigid body in body frame\n",
    "\n",
    "\n"
   ]
  },
  {
   "cell_type": "code",
   "execution_count": 13,
   "metadata": {},
   "outputs": [],
   "source": [
    "\n",
    "M_RB_CB = H(r_gb__b).T @ M_RB_CG @ H(r_gb__b)\n",
    "M_A_CB = jnp.diag(jnp.array([0.0466, 0.0466, 0.0545, 0.0, 0.0, 0.0])) # Added mass and inertia matrix (assuming hydrodynamics)\n",
    "\n",
    "# Total inertia matrix at the center of buoyancy\n",
    "M_CB = M_RB_CB + M_A_CB\n",
    "M_CB_inv = jnp.linalg.inv(M_CB)\n",
    "\n",
    "# Gravitational force in the navigation frame\n",
    "g_acc = 9.8  # Gravitational acceleration (m/s^2)\n",
    "fg_n = m_RB * jnp.array([0, 0, g_acc]).T  # Force due to gravity\n",
    "\n",
    "# Aerodynamic damping matrix\n",
    "D_CB = jnp.diag(jnp.array([0.0125, 0.0125, 0.0480, 0.000862, 0.000862, 0.000862]))\n"
   ]
  },
  {
   "cell_type": "code",
   "execution_count": null,
   "metadata": {},
   "outputs": [],
   "source": []
  }
 ],
 "metadata": {
  "kernelspec": {
   "display_name": "blimp_env",
   "language": "python",
   "name": "python3"
  },
  "language_info": {
   "codemirror_mode": {
    "name": "ipython",
    "version": 3
   },
   "file_extension": ".py",
   "mimetype": "text/x-python",
   "name": "python",
   "nbconvert_exporter": "python",
   "pygments_lexer": "ipython3",
   "version": "3.8.19"
  }
 },
 "nbformat": 4,
 "nbformat_minor": 2
}
